{
 "cells": [
  {
   "cell_type": "code",
   "execution_count": 1,
   "id": "5197eddf",
   "metadata": {},
   "outputs": [],
   "source": [
    "import statistics"
   ]
  },
  {
   "cell_type": "markdown",
   "id": "72a034e6",
   "metadata": {},
   "source": [
    "### stdev , mean (standart sapma ve ortalama )"
   ]
  },
  {
   "cell_type": "code",
   "execution_count": 2,
   "id": "4a7d5af4",
   "metadata": {},
   "outputs": [],
   "source": [
    "fizik = [86,45,72,89,96,12,45,32,15,63,47,85]"
   ]
  },
  {
   "cell_type": "code",
   "execution_count": 3,
   "id": "4b268813",
   "metadata": {},
   "outputs": [],
   "source": [
    "matematik = [35,21,32,45,88,63,99,94,53,47,45,86]"
   ]
  },
  {
   "cell_type": "code",
   "execution_count": 4,
   "id": "2426e915",
   "metadata": {},
   "outputs": [
    {
     "data": {
      "text/plain": [
       "57.25"
      ]
     },
     "execution_count": 4,
     "metadata": {},
     "output_type": "execute_result"
    }
   ],
   "source": [
    "statistics.mean(fizik)"
   ]
  },
  {
   "cell_type": "code",
   "execution_count": 5,
   "id": "ea021c2d",
   "metadata": {},
   "outputs": [
    {
     "data": {
      "text/plain": [
       "59"
      ]
     },
     "execution_count": 5,
     "metadata": {},
     "output_type": "execute_result"
    }
   ],
   "source": [
    "statistics.mean(matematik)"
   ]
  },
  {
   "cell_type": "code",
   "execution_count": 6,
   "id": "52b045d6",
   "metadata": {},
   "outputs": [],
   "source": [
    "fizik2 =  [0,0,0,0,0,100,100,100,100,100,100,100]"
   ]
  },
  {
   "cell_type": "code",
   "execution_count": 7,
   "id": "6c37ee83",
   "metadata": {},
   "outputs": [
    {
     "data": {
      "text/plain": [
       "58.333333333333336"
      ]
     },
     "execution_count": 7,
     "metadata": {},
     "output_type": "execute_result"
    }
   ],
   "source": [
    "statistics.mean(fizik2)"
   ]
  },
  {
   "cell_type": "code",
   "execution_count": 8,
   "id": "b9414207",
   "metadata": {},
   "outputs": [
    {
     "data": {
      "text/plain": [
       "28.9705963788365"
      ]
     },
     "execution_count": 8,
     "metadata": {},
     "output_type": "execute_result"
    }
   ],
   "source": [
    "statistics.stdev(fizik) \n",
    "#standart deviationu daha küçük yani notlar birbirine yakın( fizik 2'ye kıyasla)"
   ]
  },
  {
   "cell_type": "code",
   "execution_count": 9,
   "id": "e93aa2f6",
   "metadata": {},
   "outputs": [
    {
     "data": {
      "text/plain": [
       "51.492865054443726"
      ]
     },
     "execution_count": 9,
     "metadata": {},
     "output_type": "execute_result"
    }
   ],
   "source": [
    "statistics.stdev(fizik2)"
   ]
  }
 ],
 "metadata": {
  "kernelspec": {
   "display_name": "Python 3 (ipykernel)",
   "language": "python",
   "name": "python3"
  },
  "language_info": {
   "codemirror_mode": {
    "name": "ipython",
    "version": 3
   },
   "file_extension": ".py",
   "mimetype": "text/x-python",
   "name": "python",
   "nbconvert_exporter": "python",
   "pygments_lexer": "ipython3",
   "version": "3.12.4"
  }
 },
 "nbformat": 4,
 "nbformat_minor": 5
}
